{
 "cells": [
  {
   "cell_type": "markdown",
   "id": "d65576bb-17b3-49fe-9183-564ce315262e",
   "metadata": {},
   "source": [
    "# Mycobacterium tuberculosis"
   ]
  },
  {
   "cell_type": "markdown",
   "id": "457145fc-7501-4d51-ae14-787cefab2061",
   "metadata": {},
   "source": [
    "### Place in the input which gene you want to blast and retrieve the information"
   ]
  },
  {
   "cell_type": "markdown",
   "id": "debbb73c-7021-4c7a-816f-801cba0b30b0",
   "metadata": {},
   "source": [
    "## Através do GenBank"
   ]
  },
  {
   "cell_type": "code",
   "execution_count": null,
   "id": "d4b2a342-17d6-43f2-92e2-c3e9672516a3",
   "metadata": {},
   "outputs": [],
   "source": [
    "from Bio.Seq import Seq\n",
    "from Bio import SeqIO\n",
    "from Bio.SeqRecord import SeqRecord\n",
    "\n",
    "while True:\n",
    "    try:\n",
    "        x = input(\"Which gene are you looking for (rpoB, rrs or efpA):\")\n",
    "        if x not in [\"rpoB\", \"rrs\", \"efpA\"]: \n",
    "            raise ValueError(\"Inserted gene not valid!\")\n",
    "        break\n",
    "    except ValueError as error:\n",
    "        print(error)\n",
    "\n",
    "#f = open(\"/home/alexandreesperana/Documents/Apontamentos/Laboratorios_Bioinformatica/TPratico/rpoB.gb\")\n",
    "f = open(f\"{x}.gb\")\n",
    "info = SeqIO.read(f, \"gb\")\n",
    "\n",
    "#print(info)\n",
    "print(f\"Gene Id: {info.id}\")\n",
    "print(f\"Description: {info.description}\")\n",
    "\n",
    "taxonomia = ''.join(f\"{m} | \" for m in info.annotations[\"taxonomy\"])\n",
    "print(f\"Taxonomy: {taxonomia[:-2]}\")\n",
    "\n",
    "print()\n",
    "for i, ref in enumerate(info.annotations[\"references\"]): print(f\"\\t-------- REFERENCE {i + 1} --------\\n\\n{ref}\")"
   ]
  },
  {
   "cell_type": "code",
   "execution_count": 43,
   "id": "b2e413af-ec8f-4ea2-88f9-051bab92afca",
   "metadata": {},
   "outputs": [
    {
     "name": "stdout",
     "output_type": "stream",
     "text": [
      "Gene Name: efpA\n",
      "GeneID:888575\n",
      "Protein NP_217362.1 has the function: MFS-type transporter EfpA\n",
      "-------- Sequence --------\n",
      "MTALNDTERAVRNWTAGRPHRPAPMRPPRSEETASERPSRYYPTWLPSRSFIAAVIAIGGMQLLATMDSTVAIVALPKIQNELSLSDAGRSWVITAYVLTFGGLMLLGGRLGDTIGRKRTFIVGVALFTISSVLCAVAWDEATLVIARLSQGVGSAIASPTGLALVATTFPKGPARNAATAVFAAMTAIGSVMGLVVGGALTEVSWRWAFLVNVPIGLVMIYLARTALRETNKERMKLDATGAILATLACTAAVFAFSIGPEKGWMSGITIGSGLVALAAAVAFVIVERTAENPVVPFHLFRDRNRLVTFSAILLAGGVMFSLTVCIGLYVQDILGYSALRAGVGFIPFVIAMGIGLGVSSQLVSRFSPRVLTIGGGYLLFGAMLYGSFFMHRGVPYFPNLVMPIVVGGIGIGMAVVPLTLSAIAGVGFDQIGPVSAIALMLQSLGGPLVLAVIQAVITSRTLYLGGTTGPVKFMNDVQLAALDHAYTYGLLWVAGAAIIVGGMALFIGYTPQQVAHAQEVKEAIDAGEL\n",
      "\n"
     ]
    }
   ],
   "source": [
    "#print(info.features)\n",
    "\n",
    "for value in info.features:\n",
    "    if value.type == \"CDS\":\n",
    "        gene_name = value.qualifiers[\"gene\"][0]\n",
    "        print(f\"Gene Name: {gene_name}\")\n",
    "        print(value.qualifiers[\"db_xref\"][0])\n",
    "        protein_id = value.qualifiers[\"protein_id\"][0]\n",
    "        pt_product = value.qualifiers[\"product\"][0]\n",
    "        description = ''.join(f\"Protein {protein_id} has the function: {pt_product}\")\n",
    "        protein = ''.join(value.qualifiers[\"translation\"][0])\n",
    "        print(f\"{description}\\n-------- Sequence --------\\n{protein}\\n\")\n",
    "        \n",
    "    elif value.type == \"rRNA\":\n",
    "        gene_name = value.qualifiers[\"gene\"][0]\n",
    "        print(f\"Gene Name: {gene_name}\")\n",
    "        print(value.qualifiers[\"db_xref\"][0])\n",
    "        prot_obt = value.qualifiers[\"product\"][0]\n",
    "        print(f\"Protein Obtained: {prot_obt}\")"
   ]
  },
  {
   "cell_type": "markdown",
   "id": "1d11132f-c9bf-4aac-a8c5-09664f7c9673",
   "metadata": {},
   "source": [
    "## Obtenção do ficheiro xml com info do blast"
   ]
  },
  {
   "cell_type": "code",
   "execution_count": 1,
   "id": "9a0ccee8-23b6-476d-bf47-f85cad227a38",
   "metadata": {},
   "outputs": [
    {
     "name": "stdin",
     "output_type": "stream",
     "text": [
      "Which gene are you looking for (rpoB, rrs or efpA): efpA\n"
     ]
    }
   ],
   "source": [
    "from Bio import SeqIO\n",
    "from Bio.Blast import NCBIWWW \n",
    "\n",
    "#f = open(\"/home/alexandreesperana/Documents/Apontamentos/Laboratorios_Bioinformatica/TPratico/rpoB.fasta\")\n",
    "f = open(f\"{x}.fasta\")\n",
    "seq = SeqIO.read(f, \"fasta\")\n",
    "\n",
    "result_handle = NCBIWWW.qblast(\"blastn\", \"nt\", seq.format(\"fasta\"))\n",
    "save_file = open(f\"{x}_blast.xml\", \"w\")\n",
    "save_file.write(result_handle.read())\n",
    "save_file.close()\n",
    "result_handle.close()"
   ]
  },
  {
   "cell_type": "markdown",
   "id": "01fd07e7-5b97-4679-a05d-f009f2a8ce39",
   "metadata": {},
   "source": [
    "## Análise Ficheiro xml"
   ]
  },
  {
   "cell_type": "code",
   "execution_count": null,
   "id": "77028108-d570-4f59-9e3f-29b207ab86b8",
   "metadata": {},
   "outputs": [],
   "source": [
    "from Bio.Blast import NCBIXML\n",
    "import json\n",
    "\n",
    "result_handle = open(f\"{x}_blast.xml\")\n",
    "blast_records = NCBIXML.parse(result_handle)\n",
    "\n",
    "allhits = []\n",
    "#E_VALUE_THRESH = 0.05\n",
    "for blast_record in blast_records:\n",
    "    for alignment in blast_record.alignments: \n",
    "        for hsp in alignment.hsps:\n",
    "            dict_all = {}\n",
    "            dict_all[\"Info\"] = alignment.hit_def\n",
    "            dict_all[\"Hit\"] = alignment.hit_id\n",
    "            dict_all[\"Lenght\"] = alignment.length\n",
    "            dict_all[\"E-value\"] = hsp.expect\n",
    "            dict_all[\"Accession Number\"] = alignment.accession\n",
    "            allhits.append(dict_all)\n",
    "\n",
    "print(f\"Number of hits: {len(allhits)}\")\n",
    "print(json.dumps(allhits, indent = 3))"
   ]
  },
  {
   "cell_type": "markdown",
   "id": "0f8a7cac-5ce9-4b25-bf35-0d28f9541b8e",
   "metadata": {},
   "source": [
    "## Ideia de Fazer igual ao exemplo do site -> Uma matriz com as infos"
   ]
  },
  {
   "cell_type": "code",
   "execution_count": null,
   "id": "5298407a-7964-495c-95a6-c67f337c2bde",
   "metadata": {},
   "outputs": [],
   "source": [
    "print(info)\n",
    "print()\n",
    "print(info.features[2])\n",
    "\n",
    "information_resumed = [\"Gene ID NCBI\", \"Accession Nr NCBI\", \"Locus Tag\", \"Nome\", \"Strand\",\n",
    "             \"Uniprot ID\", \"Annotation Score\", \"Accession Nr NCBI\", \"Nome da proteína\",\n",
    "             \"Nr Aminoácidos\", \"Localização celular\", \"Lista de termos do GeneOntology\",\n",
    "             \"EC Number\", \"TC Number\", \"Descrição\", \"Comentários\", \"Classificação\", \"Sequência\"]\n",
    "\n",
    "info_add = []"
   ]
  }
 ],
 "metadata": {
  "kernelspec": {
   "display_name": "Python 3",
   "language": "python",
   "name": "python3"
  },
  "language_info": {
   "codemirror_mode": {
    "name": "ipython",
    "version": 3
   },
   "file_extension": ".py",
   "mimetype": "text/x-python",
   "name": "python",
   "nbconvert_exporter": "python",
   "pygments_lexer": "ipython3",
   "version": "3.8.8"
  }
 },
 "nbformat": 4,
 "nbformat_minor": 5
}
