{
 "cells": [
  {
   "cell_type": "markdown",
   "id": "b85e71ea-2c12-4974-9537-7c54040a165d",
   "metadata": {},
   "source": [
    "# Mycobacterium tuberculosis"
   ]
  },
  {
   "cell_type": "markdown",
   "id": "1f44782a-1550-4a63-a461-0549b02626cb",
   "metadata": {},
   "source": [
    "## Uniprot information"
   ]
  },
  {
   "cell_type": "code",
   "execution_count": 15,
   "id": "49c0f56d-95bf-4100-85f7-6b583dfbe766",
   "metadata": {},
   "outputs": [
    {
     "name": "stdin",
     "output_type": "stream",
     "text": [
      "Which gene are you looking for (rpoB or efpA): efpA\n"
     ]
    },
    {
     "name": "stdout",
     "output_type": "stream",
     "text": [
      ">EFPA_MYCTU | Mycobacterium tuberculosis (strain ATCC 25618 / H37Rv).\n",
      "MTALNDTERAVRNWTAGRPHRPAPMRPPRSEETASERPSRYYPTWLPSRSFIAAVIAIGGMQLLATMDSTVAIVALPKIQNELSLSDAGRSWVITAYVLTFGGLMLLGGRLGDTIGRKRTFIVGVALFTISSVLCAVAWDEATLVIARLSQGVGSAIASPTGLALVATTFPKGPARNAATAVFAAMTAIGSVMGLVVGGA ...\n",
      "\n",
      "TAXONOMY: Bacteria | Actinobacteria | Corynebacteriales | Mycobacteriaceae | Mycobacterium | Mycobacterium tuberculosis complex \n",
      "SEQUENCE LENGHT: 530\n",
      "SUBCELLULAR LOCATION: Cell membrane \n",
      "SIMILARITY: Belongs to the major facilitator superfamily. \n",
      "KEYWORDS: Cell membrane | Membrane | Reference proteome | Transmembrane | Transmembrane helix | Transport | \n"
     ]
    }
   ],
   "source": [
    "from Bio import ExPASy\n",
    "import Bio.SwissProt as sp\n",
    "\n",
    "'''\n",
    "rrs não encontrado na Uniprot ;_;\n",
    "'''\n",
    "while True:\n",
    "    try:\n",
    "        x = input(\"Which gene are you looking for (rpoB or efpA):\")\n",
    "        if x not in [\"rpoB\", \"efpA\"]: \n",
    "            raise ValueError(\"Inserted gene not valid!\")\n",
    "        break\n",
    "    except ValueError as error:\n",
    "        print(error)\n",
    "\n",
    "f = open(f\"{x}_uniprot.txt\")\n",
    "info = sp.read(f)\n",
    "print(f\">{info.entry_name} | {info.organism}\")\n",
    "print(info.sequence[:200], \"...\")\n",
    "\n",
    "taxonomia = ''.join(f\"{m} | \" for m in info.organism_classification)\n",
    "print(f\"\\nTAXONOMY: {taxonomia[:-2]}\")\n",
    "print(f\"SEQUENCE LENGHT: {info.sequence_length}\")\n",
    "\n",
    "#print(info.comments)\n",
    "for member in info.comments:\n",
    "    x = member.find(\"SIMILARITY\")\n",
    "    y = member.find(\"FUNCTION\")\n",
    "    z = member.find(\"SUBCELLULAR LOCATION\")\n",
    "    if y != -1: \n",
    "        function = member.split(\"{\")\n",
    "        print(function[0])\n",
    "    if x != -1: \n",
    "        similarity = member.split(\"{\")\n",
    "        print(similarity[0])\n",
    "    if z != -1:\n",
    "        sub_location = member.split(\"{\")\n",
    "        print(sub_location[0])\n",
    "\n",
    "keywords = ''.join(f\"{m} | \" for m in info.keywords)\n",
    "print(f\"KEYWORDS: {keywords}\")\n",
    "#print(info.features)"
   ]
  }
 ],
 "metadata": {
  "kernelspec": {
   "display_name": "Python 3",
   "language": "python",
   "name": "python3"
  },
  "language_info": {
   "codemirror_mode": {
    "name": "ipython",
    "version": 3
   },
   "file_extension": ".py",
   "mimetype": "text/x-python",
   "name": "python",
   "nbconvert_exporter": "python",
   "pygments_lexer": "ipython3",
   "version": "3.8.8"
  }
 },
 "nbformat": 4,
 "nbformat_minor": 5
}
